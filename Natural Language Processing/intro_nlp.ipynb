{
 "cells": [
  {
   "cell_type": "markdown",
   "id": "fb2538ea",
   "metadata": {},
   "source": [
    "# Introduction to Natural Language Processing(Pytorch)"
   ]
  },
  {
   "cell_type": "markdown",
   "id": "b5b97017",
   "metadata": {},
   "source": [
    "### NLP is an AI/ML tool that analyzes text data and converts it into insight and language translations.  "
   ]
  },
  {
   "cell_type": "code",
   "execution_count": null,
   "id": "9b4d3559",
   "metadata": {},
   "outputs": [],
   "source": []
  }
 ],
 "metadata": {
  "kernelspec": {
   "display_name": "base",
   "language": "python",
   "name": "python3"
  },
  "language_info": {
   "codemirror_mode": {
    "name": "ipython",
    "version": 3
   },
   "file_extension": ".py",
   "mimetype": "text/x-python",
   "name": "python",
   "nbconvert_exporter": "python",
   "pygments_lexer": "ipython3",
   "version": "3.13.5"
  }
 },
 "nbformat": 4,
 "nbformat_minor": 5
}
